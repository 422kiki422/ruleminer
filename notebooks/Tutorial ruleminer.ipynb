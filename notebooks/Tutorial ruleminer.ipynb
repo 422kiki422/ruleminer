{
 "cells": [
  {
   "cell_type": "code",
   "execution_count": 1,
   "metadata": {
    "scrolled": true
   },
   "outputs": [],
   "source": [
    "import ruleminer\n",
    "import logging\n",
    "import sys\n",
    "import pandas as pd\n",
    "import numpy as np\n",
    "from datetime import datetime"
   ]
  },
  {
   "cell_type": "code",
   "execution_count": 2,
   "metadata": {},
   "outputs": [],
   "source": [
    "logging.basicConfig(stream=sys.stdout, \n",
    "                    format='%(asctime)s %(message)s',\n",
    "                    level=logging.INFO)"
   ]
  },
  {
   "cell_type": "code",
   "execution_count": 8,
   "metadata": {},
   "outputs": [],
   "source": [
    "df = pd.DataFrame(\n",
    "    columns=[\n",
    "        \"Name\",\n",
    "        \"Type\",\n",
    "        \"Assets\",\n",
    "        \"TV-life\",\n",
    "        \"TV-nonlife\",\n",
    "        \"Own funds\",\n",
    "        \"Excess\",\n",
    "    ],\n",
    "    data=[\n",
    "        [\"Insurer1\", \"life insurer\", 1000, 800, 0, 200, 200],\n",
    "        [\"Insurer2\", \"non-life insurer\", 4000, 0, 3200, 800, 800],\n",
    "        [\"Insurer3\", \"non-life insurer\", 800, 0, 700, 100, 100],\n",
    "        [\"Insurer4\", \"life insurer\", 2500, 1800, 0, 700, 700],\n",
    "        [\"Insurer5\", \"non-life insurer\", 2100, 0, 2200, 200, 200],\n",
    "        [\"Insurer6\", \"life insurer\", 9000, 8800, 0, 200, 200],\n",
    "        [\"Insurer7\", \"life insurer\", 9000, 8800, 0, 200, 200],\n",
    "        [\"Insurer8\", \"life insurer\", 9000, 8800, 0, 200, 200],\n",
    "        [\"Insurer9\", \"non-life insurer\", 9000, 8800, 0, 200, 200],\n",
    "        [\"Insurer10\", \"non-life insurer\", 9000, 0, 8800, 200, 199.99],\n",
    "    ],\n",
    ")\n",
    "for i in range(0, 15):\n",
    "    df = df.append(df, ignore_index=True)"
   ]
  },
  {
   "cell_type": "code",
   "execution_count": 9,
   "metadata": {
    "scrolled": false
   },
   "outputs": [
    {
     "data": {
      "text/html": [
       "<div>\n",
       "<style scoped>\n",
       "    .dataframe tbody tr th:only-of-type {\n",
       "        vertical-align: middle;\n",
       "    }\n",
       "\n",
       "    .dataframe tbody tr th {\n",
       "        vertical-align: top;\n",
       "    }\n",
       "\n",
       "    .dataframe thead th {\n",
       "        text-align: right;\n",
       "    }\n",
       "</style>\n",
       "<table border=\"1\" class=\"dataframe\">\n",
       "  <thead>\n",
       "    <tr style=\"text-align: right;\">\n",
       "      <th></th>\n",
       "      <th>Name</th>\n",
       "      <th>Type</th>\n",
       "      <th>Assets</th>\n",
       "      <th>TV-life</th>\n",
       "      <th>TV-nonlife</th>\n",
       "      <th>Own funds</th>\n",
       "      <th>Excess</th>\n",
       "    </tr>\n",
       "  </thead>\n",
       "  <tbody>\n",
       "    <tr>\n",
       "      <th>0</th>\n",
       "      <td>Insurer1</td>\n",
       "      <td>life insurer</td>\n",
       "      <td>1000</td>\n",
       "      <td>800</td>\n",
       "      <td>0</td>\n",
       "      <td>200</td>\n",
       "      <td>200.00</td>\n",
       "    </tr>\n",
       "    <tr>\n",
       "      <th>1</th>\n",
       "      <td>Insurer2</td>\n",
       "      <td>non-life insurer</td>\n",
       "      <td>4000</td>\n",
       "      <td>0</td>\n",
       "      <td>3200</td>\n",
       "      <td>800</td>\n",
       "      <td>800.00</td>\n",
       "    </tr>\n",
       "    <tr>\n",
       "      <th>2</th>\n",
       "      <td>Insurer3</td>\n",
       "      <td>non-life insurer</td>\n",
       "      <td>800</td>\n",
       "      <td>0</td>\n",
       "      <td>700</td>\n",
       "      <td>100</td>\n",
       "      <td>100.00</td>\n",
       "    </tr>\n",
       "    <tr>\n",
       "      <th>3</th>\n",
       "      <td>Insurer4</td>\n",
       "      <td>life insurer</td>\n",
       "      <td>2500</td>\n",
       "      <td>1800</td>\n",
       "      <td>0</td>\n",
       "      <td>700</td>\n",
       "      <td>700.00</td>\n",
       "    </tr>\n",
       "    <tr>\n",
       "      <th>4</th>\n",
       "      <td>Insurer5</td>\n",
       "      <td>non-life insurer</td>\n",
       "      <td>2100</td>\n",
       "      <td>0</td>\n",
       "      <td>2200</td>\n",
       "      <td>200</td>\n",
       "      <td>200.00</td>\n",
       "    </tr>\n",
       "    <tr>\n",
       "      <th>...</th>\n",
       "      <td>...</td>\n",
       "      <td>...</td>\n",
       "      <td>...</td>\n",
       "      <td>...</td>\n",
       "      <td>...</td>\n",
       "      <td>...</td>\n",
       "      <td>...</td>\n",
       "    </tr>\n",
       "    <tr>\n",
       "      <th>327675</th>\n",
       "      <td>Insurer6</td>\n",
       "      <td>life insurer</td>\n",
       "      <td>9000</td>\n",
       "      <td>8800</td>\n",
       "      <td>0</td>\n",
       "      <td>200</td>\n",
       "      <td>200.00</td>\n",
       "    </tr>\n",
       "    <tr>\n",
       "      <th>327676</th>\n",
       "      <td>Insurer7</td>\n",
       "      <td>life insurer</td>\n",
       "      <td>9000</td>\n",
       "      <td>8800</td>\n",
       "      <td>0</td>\n",
       "      <td>200</td>\n",
       "      <td>200.00</td>\n",
       "    </tr>\n",
       "    <tr>\n",
       "      <th>327677</th>\n",
       "      <td>Insurer8</td>\n",
       "      <td>life insurer</td>\n",
       "      <td>9000</td>\n",
       "      <td>8800</td>\n",
       "      <td>0</td>\n",
       "      <td>200</td>\n",
       "      <td>200.00</td>\n",
       "    </tr>\n",
       "    <tr>\n",
       "      <th>327678</th>\n",
       "      <td>Insurer9</td>\n",
       "      <td>non-life insurer</td>\n",
       "      <td>9000</td>\n",
       "      <td>8800</td>\n",
       "      <td>0</td>\n",
       "      <td>200</td>\n",
       "      <td>200.00</td>\n",
       "    </tr>\n",
       "    <tr>\n",
       "      <th>327679</th>\n",
       "      <td>Insurer10</td>\n",
       "      <td>non-life insurer</td>\n",
       "      <td>9000</td>\n",
       "      <td>0</td>\n",
       "      <td>8800</td>\n",
       "      <td>200</td>\n",
       "      <td>199.99</td>\n",
       "    </tr>\n",
       "  </tbody>\n",
       "</table>\n",
       "<p>327680 rows × 7 columns</p>\n",
       "</div>"
      ],
      "text/plain": [
       "             Name              Type  Assets  TV-life  TV-nonlife  Own funds  \\\n",
       "0        Insurer1      life insurer    1000      800           0        200   \n",
       "1        Insurer2  non-life insurer    4000        0        3200        800   \n",
       "2        Insurer3  non-life insurer     800        0         700        100   \n",
       "3        Insurer4      life insurer    2500     1800           0        700   \n",
       "4        Insurer5  non-life insurer    2100        0        2200        200   \n",
       "...           ...               ...     ...      ...         ...        ...   \n",
       "327675   Insurer6      life insurer    9000     8800           0        200   \n",
       "327676   Insurer7      life insurer    9000     8800           0        200   \n",
       "327677   Insurer8      life insurer    9000     8800           0        200   \n",
       "327678   Insurer9  non-life insurer    9000     8800           0        200   \n",
       "327679  Insurer10  non-life insurer    9000        0        8800        200   \n",
       "\n",
       "        Excess  \n",
       "0       200.00  \n",
       "1       800.00  \n",
       "2       100.00  \n",
       "3       700.00  \n",
       "4       200.00  \n",
       "...        ...  \n",
       "327675  200.00  \n",
       "327676  200.00  \n",
       "327677  200.00  \n",
       "327678  200.00  \n",
       "327679  199.99  \n",
       "\n",
       "[327680 rows x 7 columns]"
      ]
     },
     "execution_count": 9,
     "metadata": {},
     "output_type": "execute_result"
    }
   ],
   "source": [
    "df"
   ]
  },
  {
   "cell_type": "code",
   "execution_count": 10,
   "metadata": {},
   "outputs": [],
   "source": [
    "# templates = [{'expression': 'if (((?P<col>[{\".*\"}]) == \".*\") or ((?P=col)==\".*\")) then ({\".*\"} == 0)'}]\n",
    "# r = ruleminer.RuleMiner(templates=templates, data=df)"
   ]
  },
  {
   "cell_type": "code",
   "execution_count": 11,
   "metadata": {},
   "outputs": [],
   "source": [
    "# import re\n",
    "# a = re.search('.*?P<([a-z]+)>.*', 'if (((?P<col>{\".*\"}) == \".*\") or ((?P=col)==\".*\")) then ({\".*\"} == 0)')\n",
    "# print(a.group(1))"
   ]
  },
  {
   "cell_type": "code",
   "execution_count": 12,
   "metadata": {
    "scrolled": true
   },
   "outputs": [
    {
     "name": "stdout",
     "output_type": "stream",
     "text": [
      "2022-04-22 09:59:59,667 Expression for if-part ([['{\".*\"}', '==', '\".*\"']]) generated\n",
      "2022-04-22 10:00:06,044 Finished\n"
     ]
    },
    {
     "data": {
      "text/html": [
       "<div>\n",
       "<style scoped>\n",
       "    .dataframe tbody tr th:only-of-type {\n",
       "        vertical-align: middle;\n",
       "    }\n",
       "\n",
       "    .dataframe tbody tr th {\n",
       "        vertical-align: top;\n",
       "    }\n",
       "\n",
       "    .dataframe thead th {\n",
       "        text-align: right;\n",
       "    }\n",
       "</style>\n",
       "<table border=\"1\" class=\"dataframe\">\n",
       "  <thead>\n",
       "    <tr style=\"text-align: right;\">\n",
       "      <th></th>\n",
       "      <th>rule_id</th>\n",
       "      <th>rule_group</th>\n",
       "      <th>rule_definition</th>\n",
       "      <th>rule_status</th>\n",
       "      <th>abs support</th>\n",
       "      <th>abs exceptions</th>\n",
       "      <th>confidence</th>\n",
       "      <th>encodings</th>\n",
       "    </tr>\n",
       "  </thead>\n",
       "  <tbody>\n",
       "    <tr>\n",
       "      <th>0</th>\n",
       "      <td>0</td>\n",
       "      <td>0</td>\n",
       "      <td>if({\"Name\"}==\"Insurer1\")then({\"TV-nonlife\"}==0)</td>\n",
       "      <td></td>\n",
       "      <td>32768</td>\n",
       "      <td>0</td>\n",
       "      <td>1.0</td>\n",
       "      <td>{}</td>\n",
       "    </tr>\n",
       "    <tr>\n",
       "      <th>1</th>\n",
       "      <td>1</td>\n",
       "      <td>0</td>\n",
       "      <td>if({\"Name\"}==\"Insurer2\")then({\"TV-life\"}==0)</td>\n",
       "      <td></td>\n",
       "      <td>32768</td>\n",
       "      <td>0</td>\n",
       "      <td>1.0</td>\n",
       "      <td>{}</td>\n",
       "    </tr>\n",
       "    <tr>\n",
       "      <th>2</th>\n",
       "      <td>2</td>\n",
       "      <td>0</td>\n",
       "      <td>if({\"Name\"}==\"Insurer3\")then({\"TV-life\"}==0)</td>\n",
       "      <td></td>\n",
       "      <td>32768</td>\n",
       "      <td>0</td>\n",
       "      <td>1.0</td>\n",
       "      <td>{}</td>\n",
       "    </tr>\n",
       "    <tr>\n",
       "      <th>3</th>\n",
       "      <td>3</td>\n",
       "      <td>0</td>\n",
       "      <td>if({\"Name\"}==\"Insurer4\")then({\"TV-nonlife\"}==0)</td>\n",
       "      <td></td>\n",
       "      <td>32768</td>\n",
       "      <td>0</td>\n",
       "      <td>1.0</td>\n",
       "      <td>{}</td>\n",
       "    </tr>\n",
       "    <tr>\n",
       "      <th>4</th>\n",
       "      <td>4</td>\n",
       "      <td>0</td>\n",
       "      <td>if({\"Name\"}==\"Insurer5\")then({\"TV-life\"}==0)</td>\n",
       "      <td></td>\n",
       "      <td>32768</td>\n",
       "      <td>0</td>\n",
       "      <td>1.0</td>\n",
       "      <td>{}</td>\n",
       "    </tr>\n",
       "    <tr>\n",
       "      <th>5</th>\n",
       "      <td>5</td>\n",
       "      <td>0</td>\n",
       "      <td>if({\"Name\"}==\"Insurer6\")then({\"TV-nonlife\"}==0)</td>\n",
       "      <td></td>\n",
       "      <td>32768</td>\n",
       "      <td>0</td>\n",
       "      <td>1.0</td>\n",
       "      <td>{}</td>\n",
       "    </tr>\n",
       "    <tr>\n",
       "      <th>6</th>\n",
       "      <td>6</td>\n",
       "      <td>0</td>\n",
       "      <td>if({\"Name\"}==\"Insurer7\")then({\"TV-nonlife\"}==0)</td>\n",
       "      <td></td>\n",
       "      <td>32768</td>\n",
       "      <td>0</td>\n",
       "      <td>1.0</td>\n",
       "      <td>{}</td>\n",
       "    </tr>\n",
       "    <tr>\n",
       "      <th>7</th>\n",
       "      <td>7</td>\n",
       "      <td>0</td>\n",
       "      <td>if({\"Name\"}==\"Insurer8\")then({\"TV-nonlife\"}==0)</td>\n",
       "      <td></td>\n",
       "      <td>32768</td>\n",
       "      <td>0</td>\n",
       "      <td>1.0</td>\n",
       "      <td>{}</td>\n",
       "    </tr>\n",
       "    <tr>\n",
       "      <th>8</th>\n",
       "      <td>8</td>\n",
       "      <td>0</td>\n",
       "      <td>if({\"Name\"}==\"Insurer9\")then({\"TV-nonlife\"}==0)</td>\n",
       "      <td></td>\n",
       "      <td>32768</td>\n",
       "      <td>0</td>\n",
       "      <td>1.0</td>\n",
       "      <td>{}</td>\n",
       "    </tr>\n",
       "    <tr>\n",
       "      <th>9</th>\n",
       "      <td>9</td>\n",
       "      <td>0</td>\n",
       "      <td>if({\"Name\"}==\"Insurer10\")then({\"TV-life\"}==0)</td>\n",
       "      <td></td>\n",
       "      <td>32768</td>\n",
       "      <td>0</td>\n",
       "      <td>1.0</td>\n",
       "      <td>{}</td>\n",
       "    </tr>\n",
       "    <tr>\n",
       "      <th>10</th>\n",
       "      <td>10</td>\n",
       "      <td>0</td>\n",
       "      <td>if({\"Type\"}==\"life insurer\")then({\"TV-nonlife\"...</td>\n",
       "      <td></td>\n",
       "      <td>163840</td>\n",
       "      <td>0</td>\n",
       "      <td>1.0</td>\n",
       "      <td>{}</td>\n",
       "    </tr>\n",
       "    <tr>\n",
       "      <th>11</th>\n",
       "      <td>11</td>\n",
       "      <td>0</td>\n",
       "      <td>if({\"Type\"}==\"non-life insurer\")then({\"TV-life...</td>\n",
       "      <td></td>\n",
       "      <td>131072</td>\n",
       "      <td>32768</td>\n",
       "      <td>0.8</td>\n",
       "      <td>{}</td>\n",
       "    </tr>\n",
       "  </tbody>\n",
       "</table>\n",
       "</div>"
      ],
      "text/plain": [
       "   rule_id rule_group                                    rule_definition  \\\n",
       "0        0          0    if({\"Name\"}==\"Insurer1\")then({\"TV-nonlife\"}==0)   \n",
       "1        1          0       if({\"Name\"}==\"Insurer2\")then({\"TV-life\"}==0)   \n",
       "2        2          0       if({\"Name\"}==\"Insurer3\")then({\"TV-life\"}==0)   \n",
       "3        3          0    if({\"Name\"}==\"Insurer4\")then({\"TV-nonlife\"}==0)   \n",
       "4        4          0       if({\"Name\"}==\"Insurer5\")then({\"TV-life\"}==0)   \n",
       "5        5          0    if({\"Name\"}==\"Insurer6\")then({\"TV-nonlife\"}==0)   \n",
       "6        6          0    if({\"Name\"}==\"Insurer7\")then({\"TV-nonlife\"}==0)   \n",
       "7        7          0    if({\"Name\"}==\"Insurer8\")then({\"TV-nonlife\"}==0)   \n",
       "8        8          0    if({\"Name\"}==\"Insurer9\")then({\"TV-nonlife\"}==0)   \n",
       "9        9          0      if({\"Name\"}==\"Insurer10\")then({\"TV-life\"}==0)   \n",
       "10      10          0  if({\"Type\"}==\"life insurer\")then({\"TV-nonlife\"...   \n",
       "11      11          0  if({\"Type\"}==\"non-life insurer\")then({\"TV-life...   \n",
       "\n",
       "   rule_status abs support abs exceptions  confidence encodings  \n",
       "0                    32768              0         1.0        {}  \n",
       "1                    32768              0         1.0        {}  \n",
       "2                    32768              0         1.0        {}  \n",
       "3                    32768              0         1.0        {}  \n",
       "4                    32768              0         1.0        {}  \n",
       "5                    32768              0         1.0        {}  \n",
       "6                    32768              0         1.0        {}  \n",
       "7                    32768              0         1.0        {}  \n",
       "8                    32768              0         1.0        {}  \n",
       "9                    32768              0         1.0        {}  \n",
       "10                  163840              0         1.0        {}  \n",
       "11                  131072          32768         0.8        {}  "
      ]
     },
     "execution_count": 12,
     "metadata": {},
     "output_type": "execute_result"
    }
   ],
   "source": [
    "templates = [{'expression': 'if ({\".*\"} == \".*\") then ({\".*\"} == 0)'}]\n",
    "r = ruleminer.RuleMiner(templates=templates, data=df)\n",
    "r.rules\n",
    "#[[('{\".*\"}', None)]]"
   ]
  },
  {
   "cell_type": "code",
   "execution_count": null,
   "metadata": {},
   "outputs": [],
   "source": [
    "# templates = [{'expression': 'if ({\".*\"} in [\".*\"]) then ({\".*\"} == 0)'}]\n",
    "# r = ruleminer.RuleMiner(templates=templates, data=df)\n",
    "# r.rules"
   ]
  },
  {
   "cell_type": "code",
   "execution_count": null,
   "metadata": {},
   "outputs": [],
   "source": [
    "df"
   ]
  },
  {
   "cell_type": "code",
   "execution_count": null,
   "metadata": {},
   "outputs": [],
   "source": [
    "templates = [{'expression': '({\"Own funds\"} <= quantile({\"Own funds\"}, 0.95))'}]\n",
    "r = ruleminer.RuleMiner(templates=templates, data=df)\n",
    "r.rules"
   ]
  },
  {
   "cell_type": "code",
   "execution_count": null,
   "metadata": {},
   "outputs": [],
   "source": [
    "templates = [{'expression': '({\"Own funds\"} <= quantile({\"Own funds\"}, 0.95))'}]\n",
    "r = ruleminer.RuleMiner(templates=templates, data=df,  \n",
    "             params= {'evaluate_quantile': True})\n",
    "r.rules"
   ]
  },
  {
   "cell_type": "code",
   "execution_count": null,
   "metadata": {
    "scrolled": true
   },
   "outputs": [],
   "source": [
    "templates = [{'expression': '(max({\".*\"}, {\".*\"})=={\".*\"})'}]\n",
    "r = ruleminer.RuleMiner(templates=templates, data=df)"
   ]
  },
  {
   "cell_type": "code",
   "execution_count": null,
   "metadata": {},
   "outputs": [],
   "source": [
    "r.rules"
   ]
  },
  {
   "cell_type": "code",
   "execution_count": null,
   "metadata": {
    "scrolled": true
   },
   "outputs": [],
   "source": [
    "params = {'metrics': ['rule power factor', 'added value', 'abs support', 'abs exceptions', 'confidence']}\n",
    "templates = [{'expression': 'if ({\".*\"} == \".*\") then ({\"TV.*\"} > 0)'}]\n",
    "r = ruleminer.RuleMiner(templates=templates, data=df, params=params)"
   ]
  },
  {
   "cell_type": "code",
   "execution_count": null,
   "metadata": {},
   "outputs": [],
   "source": [
    "r.rules"
   ]
  },
  {
   "cell_type": "code",
   "execution_count": null,
   "metadata": {},
   "outputs": [],
   "source": [
    "r.evaluate()"
   ]
  },
  {
   "cell_type": "code",
   "execution_count": null,
   "metadata": {
    "scrolled": true
   },
   "outputs": [],
   "source": [
    "templates = [{'group': 'simple', 'expression': '({\".*\"} >= 0)'}]\n",
    "r = ruleminer.RuleMiner(templates=templates, data=df)\n",
    "r.rules"
   ]
  },
  {
   "cell_type": "code",
   "execution_count": null,
   "metadata": {
    "scrolled": true
   },
   "outputs": [],
   "source": [
    "templates = [{'group': 'simple', 'expression': '({\".*\"} == {\".*\"})'}]\n",
    "r = ruleminer.RuleMiner(templates=templates, data=df, params={'decimal': 3})\n",
    "r.rules"
   ]
  },
  {
   "cell_type": "code",
   "execution_count": null,
   "metadata": {
    "scrolled": true
   },
   "outputs": [],
   "source": [
    "templates = [{'group': 'simple', 'expression': '(({\".*\"} + {\".*\"} * {\".*\"})=={\".*\"})'}]\n",
    "r = ruleminer.RuleMiner(templates=templates, data=df)\n",
    "r.rules"
   ]
  },
  {
   "cell_type": "code",
   "execution_count": null,
   "metadata": {},
   "outputs": [],
   "source": [
    "templates = [{'group': 'simple', 'expression': 'if ({\"Type\"} == \".*\") then ({\".*\"} == 0)'},\n",
    "             {'group': 'complex', 'expression': 'if ({\".*\"} == \".*\") then ({\".*\"} == 0)'}]\n",
    "r = ruleminer.RuleMiner(templates=templates, data=df)\n",
    "r.rules"
   ]
  },
  {
   "cell_type": "code",
   "execution_count": null,
   "metadata": {
    "scrolled": true
   },
   "outputs": [],
   "source": [
    "ruleminer.flatten_and_sort(\n",
    "            ruleminer.parser.RULE_SYNTAX.parse_string(\n",
    "                '(({\"4\"} + {\"3\"} + {\"2\"} + {\"1\"}) > 0)', parse_all=True\n",
    "            ).as_list()\n",
    "        )"
   ]
  },
  {
   "cell_type": "code",
   "execution_count": null,
   "metadata": {},
   "outputs": [],
   "source": [
    "templates = [{'expression': 'if (({\"T.*\"} == \".*\") & ({\"T.*\"} == 0) & ({\"T.*\"} == 0) & ({\"T.*\"} == 0)) then ({\"TV.*\"} > 0)'}]\n",
    "r = ruleminer.RuleMiner(templates=templates, data=df, params = {'metrics': ['casual confidence', 'abs support', 'abs exceptions', 'confidence']})"
   ]
  },
  {
   "cell_type": "code",
   "execution_count": null,
   "metadata": {},
   "outputs": [],
   "source": [
    "r.rules"
   ]
  },
  {
   "cell_type": "code",
   "execution_count": null,
   "metadata": {},
   "outputs": [],
   "source": [
    "templates = [{'expression': '({\".*\"} > {\".*\"})'}]\n",
    "r = ruleminer.RuleMiner(templates=templates, data=df, params = {'metrics': ['support', 'abs support', 'confidence']})\n",
    "r.generate()"
   ]
  },
  {
   "cell_type": "code",
   "execution_count": null,
   "metadata": {},
   "outputs": [],
   "source": [
    "r.rules"
   ]
  },
  {
   "cell_type": "code",
   "execution_count": null,
   "metadata": {
    "scrolled": true
   },
   "outputs": [],
   "source": [
    "templates = [{'expression': '(({\".*\"}+{\".*\"}) == {\".*\"})'}]\n",
    "r = ruleminer.RuleMiner(templates=templates, data=df)"
   ]
  },
  {
   "cell_type": "code",
   "execution_count": null,
   "metadata": {},
   "outputs": [],
   "source": [
    "r.rules"
   ]
  },
  {
   "cell_type": "code",
   "execution_count": null,
   "metadata": {},
   "outputs": [],
   "source": [
    "templates = [{'group': 'simple', 'expression': 'if ({\"Type\"} == \".*\") then ({\".*\"} == 0)'},\n",
    "             {'group': 'complex', 'expression': 'if ({\".*\"} == \".*\") then ({\".*\"} == 0)'}]\n",
    "r = ruleminer.RuleMiner(templates=templates, data=df, params={\"result_expressions\": True})\n",
    "r.evaluate()\n",
    "assert r is not None"
   ]
  },
  {
   "cell_type": "code",
   "execution_count": null,
   "metadata": {
    "scrolled": true
   },
   "outputs": [],
   "source": [
    "r.rules"
   ]
  },
  {
   "cell_type": "code",
   "execution_count": null,
   "metadata": {},
   "outputs": [],
   "source": [
    "templates = [{'group': 'simple', 'expression': 'if ({\"Name\"} == \"Insurer2\") then ({\"Type\"} == \".*\")'}]\n",
    "r = ruleminer.RuleMiner(templates=templates, data=df, params={\"result_expressions\": True})\n",
    "r.evaluate()\n",
    "assert r is not None"
   ]
  },
  {
   "cell_type": "code",
   "execution_count": null,
   "metadata": {},
   "outputs": [],
   "source": [
    "r.rules"
   ]
  },
  {
   "cell_type": "code",
   "execution_count": null,
   "metadata": {},
   "outputs": [],
   "source": []
  },
  {
   "cell_type": "code",
   "execution_count": null,
   "metadata": {},
   "outputs": [],
   "source": []
  }
 ],
 "metadata": {
  "kernelspec": {
   "display_name": "Python 3",
   "language": "python",
   "name": "python3"
  },
  "language_info": {
   "codemirror_mode": {
    "name": "ipython",
    "version": 3
   },
   "file_extension": ".py",
   "mimetype": "text/x-python",
   "name": "python",
   "nbconvert_exporter": "python",
   "pygments_lexer": "ipython3",
   "version": "3.7.4"
  }
 },
 "nbformat": 4,
 "nbformat_minor": 2
}
