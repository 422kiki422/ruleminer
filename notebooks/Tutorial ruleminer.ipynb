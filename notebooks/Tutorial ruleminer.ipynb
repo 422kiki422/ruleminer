{
 "cells": [
  {
   "cell_type": "code",
   "execution_count": null,
   "metadata": {
    "scrolled": true
   },
   "outputs": [],
   "source": [
    "import ruleminer\n",
    "import logging\n",
    "import sys\n",
    "import pandas as pd\n",
    "import numpy as np\n",
    "from datetime import datetime"
   ]
  },
  {
   "cell_type": "code",
   "execution_count": null,
   "metadata": {},
   "outputs": [],
   "source": [
    "logging.basicConfig(stream=sys.stdout, \n",
    "                    format='%(asctime)s %(message)s',\n",
    "                    level=logging.DEBUG)"
   ]
  },
  {
   "cell_type": "code",
   "execution_count": null,
   "metadata": {},
   "outputs": [],
   "source": [
    "df = pd.DataFrame(\n",
    "    columns=[\n",
    "        \"Name\",\n",
    "        \"Type\",\n",
    "        \"Assets\",\n",
    "        \"TV-life\",\n",
    "        \"TV-nonlife\",\n",
    "        \"Own funds\",\n",
    "        \"Excess\",\n",
    "    ],\n",
    "    data=[\n",
    "        [\"Insurer1\", \"life insurer\", 1000, 800, 0, 200, 200],\n",
    "        [\"Insurer2\", \"non-life insurer\", 4000, 0, 3200, 800, 800],\n",
    "        [\"Insurer3\", \"non-life insurer\", 800, 0, 700, 100, 100],\n",
    "        [\"Insurer4\", \"life insurer\", 2500, 1800, 0, 700, 700],\n",
    "        [\"Insurer5\", \"non-life insurer\", 2100, 0, 2200, 200, 200],\n",
    "        [\"Insurer6\", \"life insurer\", 9000, 8800, 0, 200, 200],\n",
    "        [\"Insurer7\", \"life insurer\", 9000, 8800, 0, 200, 200],\n",
    "        [\"Insurer8\", \"life insurer\", 9000, 8800, 0, 200, 200],\n",
    "        [\"Insurer9\", \"non-life insurer\", 9000, 8800, 0, 200, 200],\n",
    "        [\"Insurer10\", \"non-life insurer\", 9000, 0, 8800, 200, 199.99],\n",
    "    ],\n",
    ")\n",
    "for i in range(0, 0):\n",
    "    df = df.append(df, ignore_index=True)"
   ]
  },
  {
   "cell_type": "code",
   "execution_count": null,
   "metadata": {
    "scrolled": false
   },
   "outputs": [],
   "source": [
    "df"
   ]
  },
  {
   "cell_type": "code",
   "execution_count": null,
   "metadata": {
    "scrolled": true
   },
   "outputs": [],
   "source": [
    "templates = [{'expression': 'if ({\".*\"} > 0) then ({\".*\"} == 0)'}]\n",
    "r = ruleminer.RuleMiner(templates=templates, data=df)"
   ]
  },
  {
   "cell_type": "code",
   "execution_count": null,
   "metadata": {},
   "outputs": [],
   "source": [
    "r.rules"
   ]
  },
  {
   "cell_type": "code",
   "execution_count": null,
   "metadata": {},
   "outputs": [],
   "source": [
    "templates = [{'expression': '(max({\".*\"}, {\".*\"})=={\".*\"})'}]\n",
    "r = ruleminer.RuleMiner(templates=templates, data=df)"
   ]
  },
  {
   "cell_type": "code",
   "execution_count": null,
   "metadata": {},
   "outputs": [],
   "source": [
    "r.rules"
   ]
  },
  {
   "cell_type": "code",
   "execution_count": null,
   "metadata": {
    "scrolled": true
   },
   "outputs": [],
   "source": [
    "params = {'metrics': ['added value', 'abs support', 'abs exceptions', 'confidence']}\n",
    "templates = [{'expression': 'if ({\".*\"} == \".*\") then ({\"TV.*\"} > 0)'}]\n",
    "r = ruleminer.RuleMiner(templates=templates, data=df, params=params)"
   ]
  },
  {
   "cell_type": "code",
   "execution_count": null,
   "metadata": {},
   "outputs": [],
   "source": [
    "r.rules"
   ]
  },
  {
   "cell_type": "code",
   "execution_count": null,
   "metadata": {},
   "outputs": [],
   "source": [
    "r.evaluate()"
   ]
  },
  {
   "cell_type": "code",
   "execution_count": null,
   "metadata": {
    "scrolled": true
   },
   "outputs": [],
   "source": [
    "templates = [{'group': 'simple', 'expression': '({\".*\"} >= 0)'}]\n",
    "r = ruleminer.RuleMiner(templates=templates, data=df)\n",
    "r.rules"
   ]
  },
  {
   "cell_type": "code",
   "execution_count": null,
   "metadata": {
    "scrolled": true
   },
   "outputs": [],
   "source": [
    "templates = [{'group': 'simple', 'expression': '({\".*\"} == {\".*\"})'}]\n",
    "r = ruleminer.RuleMiner(templates=templates, data=df, params={'decimal': 3})\n",
    "r.rules"
   ]
  },
  {
   "cell_type": "code",
   "execution_count": null,
   "metadata": {
    "scrolled": true
   },
   "outputs": [],
   "source": [
    "templates = [{'group': 'simple', 'expression': '(({\".*\"} + {\".*\"} * {\".*\"})=={\".*\"})'}]\n",
    "r = ruleminer.RuleMiner(templates=templates, data=df)\n",
    "r.rules"
   ]
  },
  {
   "cell_type": "code",
   "execution_count": null,
   "metadata": {},
   "outputs": [],
   "source": [
    "templates = [{'group': 'simple', 'expression': 'if ({\"Type\"} == \".*\") then ({\".*\"} == 0)'},\n",
    "             {'group': 'complex', 'expression': 'if ({\".*\"} == \".*\") then ({\".*\"} == 0)'}]\n",
    "r = ruleminer.RuleMiner(templates=templates, data=df)\n",
    "r.rules"
   ]
  },
  {
   "cell_type": "code",
   "execution_count": null,
   "metadata": {
    "scrolled": true
   },
   "outputs": [],
   "source": [
    "ruleminer.flatten_and_sort(\n",
    "            ruleminer.parser.RULE_SYNTAX.parse_string(\n",
    "                '(({\"4\"} + {\"3\"} + {\"2\"} + {\"1\"}) > 0)', parse_all=True\n",
    "            ).as_list()\n",
    "        )"
   ]
  },
  {
   "cell_type": "code",
   "execution_count": null,
   "metadata": {},
   "outputs": [],
   "source": [
    "templates = [{'expression': 'if (({\"T.*\"} == \".*\") & ({\"T.*\"} == 0) & ({\"T.*\"} == 0) & ({\"T.*\"} == 0)) then ({\"TV.*\"} > 0)'}]\n",
    "r = ruleminer.RuleMiner(templates=templates, data=df, params = {'metrics': ['casual confidence', 'abs support', 'abs exceptions', 'confidence']})"
   ]
  },
  {
   "cell_type": "code",
   "execution_count": null,
   "metadata": {},
   "outputs": [],
   "source": [
    "r.rules"
   ]
  },
  {
   "cell_type": "code",
   "execution_count": null,
   "metadata": {},
   "outputs": [],
   "source": [
    "templates = [{'expression': '({\".*\"} > {\".*\"})'}]\n",
    "r = ruleminer.RuleMiner(templates=templates, data=df, params = {'metrics': ['abs support', 'confidence']})\n",
    "r.generate()"
   ]
  },
  {
   "cell_type": "code",
   "execution_count": null,
   "metadata": {},
   "outputs": [],
   "source": [
    "r.rules"
   ]
  },
  {
   "cell_type": "code",
   "execution_count": null,
   "metadata": {
    "scrolled": true
   },
   "outputs": [],
   "source": [
    "templates = [{'expression': '(({\".*\"}+{\".*\"}+{\".*\"}+{\".*\"}) == {\".*\"})'}]\n",
    "r = ruleminer.RuleMiner(templates=templates, data=df)"
   ]
  },
  {
   "cell_type": "code",
   "execution_count": null,
   "metadata": {},
   "outputs": [],
   "source": [
    "r.rules"
   ]
  },
  {
   "cell_type": "code",
   "execution_count": null,
   "metadata": {},
   "outputs": [],
   "source": [
    "templates = [{'group': 'simple', 'expression': 'if ({\"Type\"} == \".*\") then {\".*\"} == 0'},\n",
    "             {'group': 'complex', 'expression': 'if ({\".*\"} == \".*\") then {\".*\"} == 0'}]\n",
    "r = ruleminer.RuleMiner(templates=templates, data=df, params={\"result_expressions\": True})\n",
    "r.evaluate()\n",
    "assert r is not None"
   ]
  },
  {
   "cell_type": "code",
   "execution_count": null,
   "metadata": {
    "scrolled": true
   },
   "outputs": [],
   "source": [
    "r.rules"
   ]
  }
 ],
 "metadata": {
  "kernelspec": {
   "display_name": "Python 3",
   "language": "python",
   "name": "python3"
  },
  "language_info": {
   "codemirror_mode": {
    "name": "ipython",
    "version": 3
   },
   "file_extension": ".py",
   "mimetype": "text/x-python",
   "name": "python",
   "nbconvert_exporter": "python",
   "pygments_lexer": "ipython3",
   "version": "3.7.6"
  }
 },
 "nbformat": 4,
 "nbformat_minor": 2
}
