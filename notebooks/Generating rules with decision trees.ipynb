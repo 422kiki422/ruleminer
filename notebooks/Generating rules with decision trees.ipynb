{
 "cells": [
  {
   "cell_type": "code",
   "execution_count": null,
   "metadata": {},
   "outputs": [],
   "source": [
    "import ruleminer\n",
    "import logging\n",
    "import sys\n",
    "import pandas as pd\n",
    "from sklearn.preprocessing import OrdinalEncoder\n",
    "from sklearn.tree import DecisionTreeClassifier\n",
    "from sklearn.ensemble import AdaBoostClassifier"
   ]
  },
  {
   "cell_type": "code",
   "execution_count": null,
   "metadata": {},
   "outputs": [],
   "source": [
    "logging.basicConfig(stream=sys.stdout, \n",
    "                    format='%(asctime)s %(message)s',\n",
    "                    level=logging.WARNING)"
   ]
  },
  {
   "cell_type": "markdown",
   "metadata": {},
   "source": [
    "# Decision tree for iris dataset"
   ]
  },
  {
   "cell_type": "code",
   "execution_count": null,
   "metadata": {},
   "outputs": [],
   "source": [
    "from sklearn.datasets import load_iris\n",
    "iris = load_iris()"
   ]
  },
  {
   "cell_type": "markdown",
   "metadata": {},
   "source": [
    "## Setup dataframe"
   ]
  },
  {
   "cell_type": "code",
   "execution_count": null,
   "metadata": {},
   "outputs": [],
   "source": [
    "df = pd.DataFrame(\n",
    "    columns = [c.replace(\")\", \"\").replace(\"(\", \"\") for c in iris['feature_names']], \n",
    "    data = iris['data']\n",
    ")\n",
    "df['target'] = [iris['target_names'][x] for x in iris['target']]\n",
    "df[['target']] = OrdinalEncoder(dtype=int).fit_transform(df[['target']])"
   ]
  },
  {
   "cell_type": "markdown",
   "metadata": {},
   "source": [
    "## Fit ensemble of decision tree (AdaBoost)"
   ]
  },
  {
   "cell_type": "code",
   "execution_count": null,
   "metadata": {},
   "outputs": [],
   "source": [
    "features = [col for col in df.columns if col != \"target\"]\n",
    "X = df[features]\n",
    "Y = df[[\"target\"]].values.ravel()\n",
    "target_dtype = df.dtypes[df.columns.get_loc(\"target\")]\n",
    "\n",
    "base, estimator = DecisionTreeClassifier, AdaBoostClassifier\n",
    "\n",
    "regressor = estimator(\n",
    "    base_estimator = base(\n",
    "        random_state=0, \n",
    "        max_depth=2, \n",
    "        min_samples_split=2, \n",
    "        min_samples_leaf=1),\n",
    "    n_estimators=25,\n",
    "    random_state=0)\n",
    "regressor = regressor.fit(X, Y)"
   ]
  },
  {
   "cell_type": "code",
   "execution_count": null,
   "metadata": {},
   "outputs": [],
   "source": [
    "from matplotlib import pyplot as plt\n",
    "from sklearn import tree\n",
    "fig = plt.figure(figsize=(10,8))\n",
    "_ = tree.plot_tree(regressor[0], \n",
    "                   feature_names=iris.feature_names,  \n",
    "                   class_names=iris.target_names,\n",
    "                   filled=True)"
   ]
  },
  {
   "cell_type": "code",
   "execution_count": null,
   "metadata": {},
   "outputs": [],
   "source": [
    "# derive expression from tree\n",
    "ruleminer.tree_to_expressions(regressor[0], features, \"target\")"
   ]
  },
  {
   "cell_type": "code",
   "execution_count": null,
   "metadata": {},
   "outputs": [],
   "source": [
    "# the above can also be done with the following function\n",
    "ensemble_expressions = ruleminer.fit_ensemble_and_extract_expressions(df, \"target\", max_depth = 2)"
   ]
  },
  {
   "cell_type": "code",
   "execution_count": null,
   "metadata": {},
   "outputs": [],
   "source": [
    "# expressions from the firstt tree in the ensemble\n",
    "ensemble_expressions[0]"
   ]
  },
  {
   "cell_type": "markdown",
   "metadata": {},
   "source": [
    "## Get best rules from the ensemble"
   ]
  },
  {
   "cell_type": "code",
   "execution_count": null,
   "metadata": {},
   "outputs": [],
   "source": [
    "# finding the best rules in the ensemble (based on absolute support)\n",
    "miners = [ruleminer.RuleMiner(templates=[{'expression': expression} for expression in expressions], \n",
    "                    data=df) for expressions in ensemble_expressions]"
   ]
  },
  {
   "cell_type": "code",
   "execution_count": null,
   "metadata": {},
   "outputs": [],
   "source": [
    "best = max(miners, key=lambda miner: miner.rules['abs support'].sum())"
   ]
  },
  {
   "cell_type": "code",
   "execution_count": null,
   "metadata": {},
   "outputs": [],
   "source": [
    "# rule in the miner object\n",
    "best.rules"
   ]
  },
  {
   "cell_type": "code",
   "execution_count": null,
   "metadata": {},
   "outputs": [],
   "source": [
    "print(best.rules.to_html())"
   ]
  },
  {
   "cell_type": "code",
   "execution_count": null,
   "metadata": {},
   "outputs": [],
   "source": [
    "# total support (150 elements in original dataset)\n",
    "best.rules['abs support'].sum()"
   ]
  },
  {
   "cell_type": "markdown",
   "metadata": {},
   "source": [
    "# Decision tree with insurance data"
   ]
  },
  {
   "cell_type": "code",
   "execution_count": null,
   "metadata": {},
   "outputs": [],
   "source": [
    "df = pd.DataFrame(\n",
    "    columns=[\n",
    "        \"Name\",\n",
    "        \"Type\",\n",
    "        \"Assets\",\n",
    "        \"TV-life\",\n",
    "        \"TV-nonlife\",\n",
    "        \"Own funds\",\n",
    "        \"Excess\",\n",
    "    ],\n",
    "    data=[\n",
    "        [\"Insurer1\", \"life insurer\", 1000.0, 800.0, 0.0, 200.0, 200.0],\n",
    "        [\"Insurer2\", \"non-life insurer\", 4000.0, 0.0, 3200.0, 800.0, 800.0],\n",
    "        [\"Insurer3\", \"non-life insurer\", 800.0, 0.0, 700.0, 100.0, 100.0],\n",
    "        [\"Insurer4\", \"life insurer\", 2500.0, 1800.0, 0.0, 700.0, 700.0],\n",
    "        [\"Insurer5\", \"non-life insurer\", 2100.0, 0.0, 2200.0, 200.0, 200.0],\n",
    "        [\"Insurer6\", \"life insurer\", 9001.0, 8701.0, 0.0, 300.0, 200.0],\n",
    "        [\"Insurer7\", \"life insurer\", 9002.0, 8802.0, 0.0, 200.0, 200.0],\n",
    "        [\"Insurer8\", \"life insurer\", 9003.0, 8903.0, 0.0, 100.0, 200.0],\n",
    "        [\"Insurer9\", \"non-life insurer\", 9000.0, 8850.0, 0.0, 150.0, 200.0],\n",
    "        [\"Insurer10\", \"non-life insurer\", 9000.0, 0, 8750.0, 250.0, 199.99],\n",
    "    ],\n",
    ")\n",
    "df.index.name=\"id\"\n",
    "for i in range(0, 0):\n",
    "    df = df.append(df, ignore_index=True)\n",
    "    \n",
    "df[['Type']] = OrdinalEncoder(dtype=int).fit_transform(df[['Type']])\n",
    "df[['Name']] = OrdinalEncoder(dtype=int).fit_transform(df[['Name']])"
   ]
  },
  {
   "cell_type": "code",
   "execution_count": null,
   "metadata": {},
   "outputs": [],
   "source": [
    "expressions = ruleminer.fit_dataframe_to_ensemble(df, max_depth = 1)"
   ]
  },
  {
   "cell_type": "code",
   "execution_count": null,
   "metadata": {},
   "outputs": [],
   "source": [
    "# number of expressions\n",
    "print(len(expressions))"
   ]
  },
  {
   "cell_type": "code",
   "execution_count": null,
   "metadata": {},
   "outputs": [],
   "source": [
    "templates = [{'expression': solution} for solution in expressions]\n",
    "params = {\"filter\": {'confidence': 0.75, 'abs support': 2}}\n",
    "r = ruleminer.RuleMiner(templates=templates, data=df, params = params)"
   ]
  },
  {
   "cell_type": "code",
   "execution_count": null,
   "metadata": {},
   "outputs": [],
   "source": [
    "r.rules"
   ]
  },
  {
   "cell_type": "code",
   "execution_count": null,
   "metadata": {},
   "outputs": [],
   "source": [
    "print(r.rules.to_html())"
   ]
  },
  {
   "cell_type": "code",
   "execution_count": null,
   "metadata": {},
   "outputs": [],
   "source": [
    "df_r = r.evaluate()"
   ]
  },
  {
   "cell_type": "code",
   "execution_count": null,
   "metadata": {
    "scrolled": true
   },
   "outputs": [],
   "source": [
    "df_r[df_r['result']==False]"
   ]
  },
  {
   "cell_type": "code",
   "execution_count": null,
   "metadata": {},
   "outputs": [],
   "source": []
  },
  {
   "cell_type": "code",
   "execution_count": null,
   "metadata": {},
   "outputs": [],
   "source": []
  },
  {
   "cell_type": "code",
   "execution_count": null,
   "metadata": {},
   "outputs": [],
   "source": []
  }
 ],
 "metadata": {
  "kernelspec": {
   "display_name": "Python 3",
   "language": "python",
   "name": "python3"
  },
  "language_info": {
   "codemirror_mode": {
    "name": "ipython",
    "version": 3
   },
   "file_extension": ".py",
   "mimetype": "text/x-python",
   "name": "python",
   "nbconvert_exporter": "python",
   "pygments_lexer": "ipython3",
   "version": "3.7.6"
  }
 },
 "nbformat": 4,
 "nbformat_minor": 4
}
