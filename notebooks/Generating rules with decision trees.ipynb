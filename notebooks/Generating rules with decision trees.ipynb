{
 "cells": [
  {
   "cell_type": "code",
   "execution_count": null,
   "metadata": {},
   "outputs": [],
   "source": [
    "import ruleminer\n",
    "import logging\n",
    "import sys\n",
    "import pandas as pd\n",
    "from sklearn.preprocessing import OrdinalEncoder"
   ]
  },
  {
   "cell_type": "code",
   "execution_count": null,
   "metadata": {},
   "outputs": [],
   "source": [
    "logging.basicConfig(stream=sys.stdout, \n",
    "                    format='%(asctime)s %(message)s',\n",
    "                    level=logging.WARNING)"
   ]
  },
  {
   "cell_type": "markdown",
   "metadata": {},
   "source": [
    "# Decision tree for iris dataset"
   ]
  },
  {
   "cell_type": "code",
   "execution_count": null,
   "metadata": {},
   "outputs": [],
   "source": [
    "from sklearn.datasets import load_iris\n",
    "iris = load_iris()"
   ]
  },
  {
   "cell_type": "code",
   "execution_count": null,
   "metadata": {},
   "outputs": [],
   "source": [
    "df = pd.DataFrame(\n",
    "    columns = [c.replace(\")\", \"\").replace(\"(\", \"\") for c in iris['feature_names']], \n",
    "    data = iris['data']\n",
    ")\n",
    "df['target'] = [iris['target_names'][x] for x in iris['target']]\n",
    "df[['target']] = OrdinalEncoder(dtype=int).fit_transform(df[['target']])"
   ]
  },
  {
   "cell_type": "code",
   "execution_count": null,
   "metadata": {},
   "outputs": [],
   "source": [
    "ensemble_expressions = ruleminer.fit_ensemble_and_extract_expressions(df, \"target\", max_depth = 2)"
   ]
  },
  {
   "cell_type": "code",
   "execution_count": null,
   "metadata": {},
   "outputs": [],
   "source": [
    "# finding the best rules in the ensemble\n",
    "sum_support = 0\n",
    "params = {\"filter\": {'confidence': 0.0, 'abs support': 0},\n",
    "          \"decimal\": 1}\n",
    "for expressions in ensemble_expressions:\n",
    "    templates = [{'expression': expression} for expression in expressions]\n",
    "    miner = ruleminer.RuleMiner(templates=templates, \n",
    "                            data=df, params=params)\n",
    "    if miner.rules['abs support'].sum() > sum_support:\n",
    "        sum_support = miner.rules['abs support'].sum()\n",
    "        best = miner"
   ]
  },
  {
   "cell_type": "code",
   "execution_count": null,
   "metadata": {},
   "outputs": [],
   "source": [
    "best.rules"
   ]
  },
  {
   "cell_type": "code",
   "execution_count": null,
   "metadata": {},
   "outputs": [],
   "source": [
    "best.rules['abs support'].sum()"
   ]
  },
  {
   "cell_type": "markdown",
   "metadata": {},
   "source": [
    "# Decision tree with insurance data"
   ]
  },
  {
   "cell_type": "code",
   "execution_count": null,
   "metadata": {},
   "outputs": [],
   "source": [
    "df = pd.DataFrame(\n",
    "    columns=[\n",
    "        \"Name\",\n",
    "        \"Type\",\n",
    "        \"Assets\",\n",
    "        \"TV-life\",\n",
    "        \"TV-nonlife\",\n",
    "        \"Own funds\",\n",
    "        \"Excess\",\n",
    "    ],\n",
    "    data=[\n",
    "        [\"Insurer1\", \"life insurer\", 1000.0, 800.0, 0.0, 200.0, 200.0],\n",
    "        [\"Insurer2\", \"non-life insurer\", 4000.0, 0.0, 3200.0, 800.0, 800.0],\n",
    "        [\"Insurer3\", \"non-life insurer\", 800.0, 0.0, 700.0, 100.0, 100.0],\n",
    "        [\"Insurer4\", \"life insurer\", 2500.0, 1800.0, 0.0, 700.0, 700.0],\n",
    "        [\"Insurer5\", \"non-life insurer\", 2100.0, 0.0, 2200.0, 200.0, 200.0],\n",
    "        [\"Insurer6\", \"life insurer\", 9000.0, 8700.0, 0.0, 300.0, 200.0],\n",
    "        [\"Insurer7\", \"life insurer\", 9000.0, 8800.0, 0.0, 200.0, 200.0],\n",
    "        [\"Insurer8\", \"life insurer\", 9000.0, 8900.0, 0.0, 100.0, 200.0],\n",
    "        [\"Insurer9\", \"non-life insurer\", 9000.0, 8850.0, 0.0, 150.0, 200.0],\n",
    "        [\"Insurer10\", \"non-life insurer\", 9000.0, 0, 8750.0, 250.0, 199.99],\n",
    "    ],\n",
    ")\n",
    "df.index.name=\"id\"\n",
    "for i in range(0, 0):\n",
    "    df = df.append(df, ignore_index=True)\n",
    "    \n",
    "df[['Type']] = OrdinalEncoder(dtype=int).fit_transform(df[['Type']])\n",
    "df[['Name']] = OrdinalEncoder(dtype=int).fit_transform(df[['Name']])"
   ]
  },
  {
   "cell_type": "code",
   "execution_count": null,
   "metadata": {},
   "outputs": [],
   "source": [
    "expressions = ruleminer.fit_dataframe_to_ensemble(df, max_depth = 1)"
   ]
  },
  {
   "cell_type": "code",
   "execution_count": null,
   "metadata": {},
   "outputs": [],
   "source": [
    "templates = [{'expression': solution} for solution in expressions]\n",
    "params = {\"filter\": {'confidence': 0.75, 'abs support': 2},\n",
    "          \"metrics\": ['confidence', 'abs support', 'abs exceptions']}\n",
    "r = ruleminer.RuleMiner(templates=templates, data=df, params = params)"
   ]
  },
  {
   "cell_type": "code",
   "execution_count": null,
   "metadata": {},
   "outputs": [],
   "source": [
    "r.rules"
   ]
  },
  {
   "cell_type": "code",
   "execution_count": null,
   "metadata": {},
   "outputs": [],
   "source": [
    "df_r = r.evaluate()"
   ]
  },
  {
   "cell_type": "code",
   "execution_count": null,
   "metadata": {
    "scrolled": true
   },
   "outputs": [],
   "source": [
    "df_r[df_r['result']==False]"
   ]
  },
  {
   "cell_type": "code",
   "execution_count": null,
   "metadata": {},
   "outputs": [],
   "source": []
  },
  {
   "cell_type": "code",
   "execution_count": null,
   "metadata": {},
   "outputs": [],
   "source": []
  },
  {
   "cell_type": "code",
   "execution_count": null,
   "metadata": {},
   "outputs": [],
   "source": []
  }
 ],
 "metadata": {
  "kernelspec": {
   "display_name": "Python 3",
   "language": "python",
   "name": "python3"
  },
  "language_info": {
   "codemirror_mode": {
    "name": "ipython",
    "version": 3
   },
   "file_extension": ".py",
   "mimetype": "text/x-python",
   "name": "python",
   "nbconvert_exporter": "python",
   "pygments_lexer": "ipython3",
   "version": "3.7.6"
  }
 },
 "nbformat": 4,
 "nbformat_minor": 4
}
