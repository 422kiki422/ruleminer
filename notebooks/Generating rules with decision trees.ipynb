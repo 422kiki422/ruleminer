{
 "cells": [
  {
   "cell_type": "code",
   "execution_count": 1,
   "metadata": {},
   "outputs": [],
   "source": [
    "import ruleminer\n",
    "import logging\n",
    "import sys\n",
    "import pandas as pd\n",
    "from sklearn.preprocessing import OrdinalEncoder"
   ]
  },
  {
   "cell_type": "code",
   "execution_count": 2,
   "metadata": {},
   "outputs": [],
   "source": [
    "logging.basicConfig(stream=sys.stdout, \n",
    "                    format='%(asctime)s %(message)s',\n",
    "                    level=logging.WARNING)"
   ]
  },
  {
   "cell_type": "markdown",
   "metadata": {},
   "source": [
    "# Decision tree for iris dataset"
   ]
  },
  {
   "cell_type": "code",
   "execution_count": 3,
   "metadata": {},
   "outputs": [],
   "source": [
    "from sklearn.datasets import load_iris\n",
    "iris = load_iris()"
   ]
  },
  {
   "cell_type": "code",
   "execution_count": 4,
   "metadata": {},
   "outputs": [],
   "source": [
    "df = pd.DataFrame(\n",
    "    columns = [c.replace(\")\", \"\").replace(\"(\", \"\") for c in iris['feature_names']], \n",
    "    data = iris['data']\n",
    ")\n",
    "df['target'] = [iris['target_names'][x] for x in iris['target']]\n",
    "df[['target']] = OrdinalEncoder(dtype=int).fit_transform(df[['target']])"
   ]
  },
  {
   "cell_type": "code",
   "execution_count": 5,
   "metadata": {},
   "outputs": [],
   "source": [
    "ensemble_expressions = ruleminer.fit_ensemble_and_extract_expressions(df, \"target\", max_depth = 2)"
   ]
  },
  {
   "cell_type": "code",
   "execution_count": 6,
   "metadata": {},
   "outputs": [
    {
     "data": {
      "text/plain": [
       "{'if (({\"petal width cm\"} <= 0.800000011920929)) then ({\"target\"} == 0)',\n",
       " 'if (({\"petal width cm\"} > 0.800000011920929) & ({\"petal width cm\"} <= 1.75)) then ({\"target\"} == 1)',\n",
       " 'if (({\"petal width cm\"} > 0.800000011920929) & ({\"petal width cm\"} > 1.75)) then ({\"target\"} == 2)'}"
      ]
     },
     "execution_count": 6,
     "metadata": {},
     "output_type": "execute_result"
    }
   ],
   "source": [
    "# expressions from the firstt tree in the ensemble\n",
    "ensemble_expressions[0]"
   ]
  },
  {
   "cell_type": "code",
   "execution_count": 7,
   "metadata": {},
   "outputs": [],
   "source": [
    "# finding the best rules in the ensemble (based on absolute support)\n",
    "sum_support = 0\n",
    "params = {\"filter\": {'confidence': 0.0, 'abs support': 0},\n",
    "          \"decimal\": 1}\n",
    "for expressions in ensemble_expressions:\n",
    "    templates = [{'expression': expression} for expression in expressions]\n",
    "    miner = ruleminer.RuleMiner(templates=templates, \n",
    "                            data=df, params=params)\n",
    "    if miner.rules['abs support'].sum() > sum_support:\n",
    "        sum_support = miner.rules['abs support'].sum()\n",
    "        best = miner"
   ]
  },
  {
   "cell_type": "code",
   "execution_count": 8,
   "metadata": {},
   "outputs": [
    {
     "data": {
      "text/html": [
       "<div>\n",
       "<style scoped>\n",
       "    .dataframe tbody tr th:only-of-type {\n",
       "        vertical-align: middle;\n",
       "    }\n",
       "\n",
       "    .dataframe tbody tr th {\n",
       "        vertical-align: top;\n",
       "    }\n",
       "\n",
       "    .dataframe thead th {\n",
       "        text-align: right;\n",
       "    }\n",
       "</style>\n",
       "<table border=\"1\" class=\"dataframe\">\n",
       "  <thead>\n",
       "    <tr style=\"text-align: right;\">\n",
       "      <th></th>\n",
       "      <th>rule_id</th>\n",
       "      <th>rule_group</th>\n",
       "      <th>rule_definition</th>\n",
       "      <th>rule_status</th>\n",
       "      <th>abs support</th>\n",
       "      <th>abs exceptions</th>\n",
       "      <th>confidence</th>\n",
       "      <th>encodings</th>\n",
       "    </tr>\n",
       "  </thead>\n",
       "  <tbody>\n",
       "    <tr>\n",
       "      <th>0</th>\n",
       "      <td>0</td>\n",
       "      <td>0</td>\n",
       "      <td>if({\"petal width cm\"}&lt;=0.800000011920929)then(...</td>\n",
       "      <td></td>\n",
       "      <td>50</td>\n",
       "      <td>0</td>\n",
       "      <td>1.000000</td>\n",
       "      <td>{}</td>\n",
       "    </tr>\n",
       "    <tr>\n",
       "      <th>1</th>\n",
       "      <td>1</td>\n",
       "      <td>0</td>\n",
       "      <td>if(({\"petal width cm\"}&gt;0.800000011920929)&amp;({\"p...</td>\n",
       "      <td></td>\n",
       "      <td>49</td>\n",
       "      <td>5</td>\n",
       "      <td>0.907407</td>\n",
       "      <td>{}</td>\n",
       "    </tr>\n",
       "    <tr>\n",
       "      <th>2</th>\n",
       "      <td>2</td>\n",
       "      <td>0</td>\n",
       "      <td>if(({\"petal width cm\"}&gt;0.800000011920929)&amp;({\"p...</td>\n",
       "      <td></td>\n",
       "      <td>45</td>\n",
       "      <td>1</td>\n",
       "      <td>0.978261</td>\n",
       "      <td>{}</td>\n",
       "    </tr>\n",
       "  </tbody>\n",
       "</table>\n",
       "</div>"
      ],
      "text/plain": [
       "  rule_id rule_group                                    rule_definition  \\\n",
       "0       0          0  if({\"petal width cm\"}<=0.800000011920929)then(...   \n",
       "1       1          0  if(({\"petal width cm\"}>0.800000011920929)&({\"p...   \n",
       "2       2          0  if(({\"petal width cm\"}>0.800000011920929)&({\"p...   \n",
       "\n",
       "  rule_status abs support abs exceptions  confidence encodings  \n",
       "0                      50              0    1.000000        {}  \n",
       "1                      49              5    0.907407        {}  \n",
       "2                      45              1    0.978261        {}  "
      ]
     },
     "execution_count": 8,
     "metadata": {},
     "output_type": "execute_result"
    }
   ],
   "source": [
    "# rule in the miner object\n",
    "best.rules"
   ]
  },
  {
   "cell_type": "code",
   "execution_count": 9,
   "metadata": {},
   "outputs": [
    {
     "data": {
      "text/plain": [
       "144"
      ]
     },
     "execution_count": 9,
     "metadata": {},
     "output_type": "execute_result"
    }
   ],
   "source": [
    "# total support (150 elements in original dataset)\n",
    "best.rules['abs support'].sum()"
   ]
  },
  {
   "cell_type": "markdown",
   "metadata": {},
   "source": [
    "# Decision tree with insurance data"
   ]
  },
  {
   "cell_type": "code",
   "execution_count": 10,
   "metadata": {},
   "outputs": [],
   "source": [
    "df = pd.DataFrame(\n",
    "    columns=[\n",
    "        \"Name\",\n",
    "        \"Type\",\n",
    "        \"Assets\",\n",
    "        \"TV-life\",\n",
    "        \"TV-nonlife\",\n",
    "        \"Own funds\",\n",
    "        \"Excess\",\n",
    "    ],\n",
    "    data=[\n",
    "        [\"Insurer1\", \"life insurer\", 1000.0, 800.0, 0.0, 200.0, 200.0],\n",
    "        [\"Insurer2\", \"non-life insurer\", 4000.0, 0.0, 3200.0, 800.0, 800.0],\n",
    "        [\"Insurer3\", \"non-life insurer\", 800.0, 0.0, 700.0, 100.0, 100.0],\n",
    "        [\"Insurer4\", \"life insurer\", 2500.0, 1800.0, 0.0, 700.0, 700.0],\n",
    "        [\"Insurer5\", \"non-life insurer\", 2100.0, 0.0, 2200.0, 200.0, 200.0],\n",
    "        [\"Insurer6\", \"life insurer\", 9000.0, 8700.0, 0.0, 300.0, 200.0],\n",
    "        [\"Insurer7\", \"life insurer\", 9000.0, 8800.0, 0.0, 200.0, 200.0],\n",
    "        [\"Insurer8\", \"life insurer\", 9000.0, 8900.0, 0.0, 100.0, 200.0],\n",
    "        [\"Insurer9\", \"non-life insurer\", 9000.0, 8850.0, 0.0, 150.0, 200.0],\n",
    "        [\"Insurer10\", \"non-life insurer\", 9000.0, 0, 8750.0, 250.0, 199.99],\n",
    "    ],\n",
    ")\n",
    "df.index.name=\"id\"\n",
    "for i in range(0, 0):\n",
    "    df = df.append(df, ignore_index=True)\n",
    "    \n",
    "df[['Type']] = OrdinalEncoder(dtype=int).fit_transform(df[['Type']])\n",
    "df[['Name']] = OrdinalEncoder(dtype=int).fit_transform(df[['Name']])"
   ]
  },
  {
   "cell_type": "code",
   "execution_count": 11,
   "metadata": {},
   "outputs": [],
   "source": [
    "expressions = ruleminer.fit_dataframe_to_ensemble(df, max_depth = 1)"
   ]
  },
  {
   "cell_type": "code",
   "execution_count": 12,
   "metadata": {},
   "outputs": [
    {
     "data": {
      "text/plain": [
       "['if (({\"TV-nonlife\"} <= 5975.0)) then ({\"Name\"} == 8)',\n",
       " 'if (({\"Own funds\"} <= 750.0)) then ({\"Name\"} == 1)',\n",
       " 'if (({\"Name\"} <= 0.5)) then ({\"Assets\"} == 1000.0)',\n",
       " 'if (({\"TV-life\"} > 400.0)) then ({\"TV-nonlife\"} == 0.0)',\n",
       " 'if (({\"TV-nonlife\"} > 5975.0)) then ({\"Name\"} == 1)',\n",
       " 'if (({\"Excess\"} > 149.99500274658203)) then ({\"Name\"} == 0)',\n",
       " 'if (({\"Own funds\"} <= 750.0)) then ({\"Name\"} == 0)',\n",
       " 'if (({\"Excess\"} <= 199.99500274658203)) then ({\"TV-nonlife\"} == 8750.0)',\n",
       " 'if (({\"Name\"} <= 8.5)) then ({\"Type\"} == 0)',\n",
       " 'if (({\"TV-life\"} <= 5250.0)) then ({\"Assets\"} == 1440.0)']"
      ]
     },
     "execution_count": 12,
     "metadata": {},
     "output_type": "execute_result"
    }
   ],
   "source": [
    "# first ten rules in the set\n",
    "list(expressions)[0:10]"
   ]
  },
  {
   "cell_type": "code",
   "execution_count": 13,
   "metadata": {},
   "outputs": [],
   "source": [
    "templates = [{'expression': solution} for solution in expressions]\n",
    "params = {\"filter\": {'confidence': 0.75, 'abs support': 2},\n",
    "          \"metrics\": ['confidence', 'abs support', 'abs exceptions']}\n",
    "r = ruleminer.RuleMiner(templates=templates, data=df, params = params)"
   ]
  },
  {
   "cell_type": "code",
   "execution_count": 14,
   "metadata": {},
   "outputs": [
    {
     "data": {
      "text/html": [
       "<div>\n",
       "<style scoped>\n",
       "    .dataframe tbody tr th:only-of-type {\n",
       "        vertical-align: middle;\n",
       "    }\n",
       "\n",
       "    .dataframe tbody tr th {\n",
       "        vertical-align: top;\n",
       "    }\n",
       "\n",
       "    .dataframe thead th {\n",
       "        text-align: right;\n",
       "    }\n",
       "</style>\n",
       "<table border=\"1\" class=\"dataframe\">\n",
       "  <thead>\n",
       "    <tr style=\"text-align: right;\">\n",
       "      <th></th>\n",
       "      <th>rule_id</th>\n",
       "      <th>rule_group</th>\n",
       "      <th>rule_definition</th>\n",
       "      <th>rule_status</th>\n",
       "      <th>confidence</th>\n",
       "      <th>abs support</th>\n",
       "      <th>abs exceptions</th>\n",
       "      <th>encodings</th>\n",
       "    </tr>\n",
       "  </thead>\n",
       "  <tbody>\n",
       "    <tr>\n",
       "      <th>0</th>\n",
       "      <td>0</td>\n",
       "      <td>0</td>\n",
       "      <td>if({\"TV-life\"}&gt;400.0)then({\"TV-nonlife\"}==0.0)</td>\n",
       "      <td></td>\n",
       "      <td>1.000000</td>\n",
       "      <td>6</td>\n",
       "      <td>0</td>\n",
       "      <td>{}</td>\n",
       "    </tr>\n",
       "    <tr>\n",
       "      <th>1</th>\n",
       "      <td>1</td>\n",
       "      <td>0</td>\n",
       "      <td>if({\"TV-life\"}&gt;400.0)then({\"Type\"}==0)</td>\n",
       "      <td></td>\n",
       "      <td>0.833333</td>\n",
       "      <td>5</td>\n",
       "      <td>1</td>\n",
       "      <td>{}</td>\n",
       "    </tr>\n",
       "    <tr>\n",
       "      <th>2</th>\n",
       "      <td>2</td>\n",
       "      <td>0</td>\n",
       "      <td>if({\"TV-life\"}&gt;5250.0)then({\"Assets\"}==9000.0)</td>\n",
       "      <td></td>\n",
       "      <td>1.000000</td>\n",
       "      <td>4</td>\n",
       "      <td>0</td>\n",
       "      <td>{}</td>\n",
       "    </tr>\n",
       "    <tr>\n",
       "      <th>3</th>\n",
       "      <td>3</td>\n",
       "      <td>0</td>\n",
       "      <td>if({\"TV-life\"}&lt;=400.0)then({\"Type\"}==1)</td>\n",
       "      <td></td>\n",
       "      <td>1.000000</td>\n",
       "      <td>4</td>\n",
       "      <td>0</td>\n",
       "      <td>{}</td>\n",
       "    </tr>\n",
       "  </tbody>\n",
       "</table>\n",
       "</div>"
      ],
      "text/plain": [
       "  rule_id rule_group                                 rule_definition  \\\n",
       "0       0          0  if({\"TV-life\"}>400.0)then({\"TV-nonlife\"}==0.0)   \n",
       "1       1          0          if({\"TV-life\"}>400.0)then({\"Type\"}==0)   \n",
       "2       2          0  if({\"TV-life\"}>5250.0)then({\"Assets\"}==9000.0)   \n",
       "3       3          0         if({\"TV-life\"}<=400.0)then({\"Type\"}==1)   \n",
       "\n",
       "  rule_status  confidence abs support abs exceptions encodings  \n",
       "0                1.000000           6              0        {}  \n",
       "1                0.833333           5              1        {}  \n",
       "2                1.000000           4              0        {}  \n",
       "3                1.000000           4              0        {}  "
      ]
     },
     "execution_count": 14,
     "metadata": {},
     "output_type": "execute_result"
    }
   ],
   "source": [
    "r.rules"
   ]
  },
  {
   "cell_type": "code",
   "execution_count": 15,
   "metadata": {},
   "outputs": [],
   "source": [
    "df_r = r.evaluate()"
   ]
  },
  {
   "cell_type": "code",
   "execution_count": 16,
   "metadata": {
    "scrolled": true
   },
   "outputs": [
    {
     "data": {
      "text/html": [
       "<div>\n",
       "<style scoped>\n",
       "    .dataframe tbody tr th:only-of-type {\n",
       "        vertical-align: middle;\n",
       "    }\n",
       "\n",
       "    .dataframe tbody tr th {\n",
       "        vertical-align: top;\n",
       "    }\n",
       "\n",
       "    .dataframe thead th {\n",
       "        text-align: right;\n",
       "    }\n",
       "</style>\n",
       "<table border=\"1\" class=\"dataframe\">\n",
       "  <thead>\n",
       "    <tr style=\"text-align: right;\">\n",
       "      <th></th>\n",
       "      <th>rule_id</th>\n",
       "      <th>rule_group</th>\n",
       "      <th>rule_definition</th>\n",
       "      <th>rule_status</th>\n",
       "      <th>abs support</th>\n",
       "      <th>abs exceptions</th>\n",
       "      <th>confidence</th>\n",
       "      <th>result</th>\n",
       "      <th>indices</th>\n",
       "    </tr>\n",
       "  </thead>\n",
       "  <tbody>\n",
       "    <tr>\n",
       "      <th>11</th>\n",
       "      <td>1</td>\n",
       "      <td>0</td>\n",
       "      <td>if({\"TV-life\"}&gt;400.0)then({\"Type\"}==0)</td>\n",
       "      <td></td>\n",
       "      <td>5</td>\n",
       "      <td>1</td>\n",
       "      <td>0.833333</td>\n",
       "      <td>False</td>\n",
       "      <td>8</td>\n",
       "    </tr>\n",
       "  </tbody>\n",
       "</table>\n",
       "</div>"
      ],
      "text/plain": [
       "   rule_id rule_group                         rule_definition rule_status  \\\n",
       "11       1          0  if({\"TV-life\"}>400.0)then({\"Type\"}==0)               \n",
       "\n",
       "   abs support abs exceptions  confidence result indices  \n",
       "11           5              1    0.833333  False       8  "
      ]
     },
     "execution_count": 16,
     "metadata": {},
     "output_type": "execute_result"
    }
   ],
   "source": [
    "df_r[df_r['result']==False]"
   ]
  },
  {
   "cell_type": "code",
   "execution_count": null,
   "metadata": {},
   "outputs": [],
   "source": []
  },
  {
   "cell_type": "code",
   "execution_count": null,
   "metadata": {},
   "outputs": [],
   "source": []
  },
  {
   "cell_type": "code",
   "execution_count": null,
   "metadata": {},
   "outputs": [],
   "source": []
  }
 ],
 "metadata": {
  "kernelspec": {
   "display_name": "Python 3",
   "language": "python",
   "name": "python3"
  },
  "language_info": {
   "codemirror_mode": {
    "name": "ipython",
    "version": 3
   },
   "file_extension": ".py",
   "mimetype": "text/x-python",
   "name": "python",
   "nbconvert_exporter": "python",
   "pygments_lexer": "ipython3",
   "version": "3.7.6"
  }
 },
 "nbformat": 4,
 "nbformat_minor": 4
}
